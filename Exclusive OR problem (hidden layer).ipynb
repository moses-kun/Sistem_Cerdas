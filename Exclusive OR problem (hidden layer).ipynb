{
 "cells": [
  {
   "cell_type": "code",
   "execution_count": 1,
   "metadata": {},
   "outputs": [],
   "source": [
    "%matplotlib inline\n",
    "from matplotlib import pyplot as plt\n",
    "import numpy as np"
   ]
  },
  {
   "cell_type": "code",
   "execution_count": 33,
   "metadata": {},
   "outputs": [
    {
     "name": "stdout",
     "output_type": "stream",
     "text": [
      "0\n",
      "0\n",
      "1\n",
      "1\n"
     ]
    }
   ],
   "source": [
    "training_input = np.array ([[0,0],[0,1],[1,0],[1,1]])\n",
    "\n",
    "training_solution = np.array([[0,1,1,0]]).T\n",
    "\n",
    "training_solution[0]\n",
    "\n",
    "for i in range(len(training_input)):\n",
    "    x1 = training_input[i][0]\n",
    "    print(x1)\n",
    "    x2 = training_input[i][1]\n",
    "\n"
   ]
  },
  {
   "cell_type": "code",
   "execution_count": 3,
   "metadata": {},
   "outputs": [
    {
     "data": {
      "image/png": "[encoded data removed]",
      "text/plain": [
       "<Figure size 432x288 with 1 Axes>"
      ]
     },
     "metadata": {
      "needs_background": "light"
     },
     "output_type": "display_data"
    }
   ],
   "source": [
    "def vis_data():\n",
    "    plt.grid()\n",
    "\n",
    "    for i in range(len(training_input)):\n",
    "        c = 'r'\n",
    "        if training_solution[i] == 0:\n",
    "            c = 'grey'\n",
    "        plt.scatter([training_input[i][0]], [training_input[i][1]], c=c)\n",
    "\n",
    "vis_data()"
   ]
  },
  {
   "cell_type": "code",
   "execution_count": 4,
   "metadata": {},
   "outputs": [],
   "source": [
    "def sigmoid(x):\n",
    "    return 1/(1+np.exp(-x))\n",
    "\n",
    "def sigmoid_p(x):\n",
    "    return sigmoid(x) * (1-sigmoid(x))"
   ]
  },
  {
   "cell_type": "code",
   "execution_count": 23,
   "metadata": {},
   "outputs": [
    {
     "data": {
      "text/plain": [
       "0.5"
      ]
     },
     "execution_count": 23,
     "metadata": {},
     "output_type": "execute_result"
    }
   ],
   "source": [
    "w13 = 0.5\n",
    "w14 = 0.9\n",
    "w23 = 0.4\n",
    "w24 = 1\n",
    "w35 = -1.2\n",
    "w45 = -1.1\n",
    "\n",
    "w13"
   ]
  },
  {
   "cell_type": "code",
   "execution_count": 6,
   "metadata": {},
   "outputs": [],
   "source": [
    "b3 = 0.8\n",
    "b4 = -0.1\n",
    "b5 = 0.3"
   ]
  },
  {
   "cell_type": "code",
   "execution_count": 47,
   "metadata": {},
   "outputs": [],
   "source": [
    "def err(nilai_target, nilai_keluaran):\n",
    "    return nilai_target - nilai_keluaran"
   ]
  },
  {
   "cell_type": "code",
   "execution_count": 48,
   "metadata": {},
   "outputs": [
    {
     "data": {
      "text/plain": [
       "-0.5"
      ]
     },
     "execution_count": 48,
     "metadata": {},
     "output_type": "execute_result"
    }
   ],
   "source": [
    "error (0, 0.5)"
   ]
  },
  {
   "cell_type": "code",
   "execution_count": 56,
   "metadata": {},
   "outputs": [],
   "source": [
    "def err_gradien(nilai_keluaran, error):\n",
    "    return nilai_keluaran*(1-nilai_keluaran)*error"
   ]
  },
  {
   "cell_type": "code",
   "execution_count": 57,
   "metadata": {},
   "outputs": [
    {
     "data": {
      "text/plain": [
       "-0.127377042327"
      ]
     },
     "execution_count": 57,
     "metadata": {},
     "output_type": "execute_result"
    }
   ],
   "source": [
    "error_gradien(0.5097, -0.5097)"
   ]
  },
  {
   "cell_type": "code",
   "execution_count": 58,
   "metadata": {},
   "outputs": [],
   "source": [
    "def weight_correction(learning_rate, input_terakhir, gradien_error):\n",
    "    return learning_rate*input_terakhir*gradien_error"
   ]
  },
  {
   "cell_type": "code",
   "execution_count": 59,
   "metadata": {},
   "outputs": [
    {
     "data": {
      "text/plain": [
       "-0.006624800000000001"
      ]
     },
     "execution_count": 59,
     "metadata": {},
     "output_type": "execute_result"
    }
   ],
   "source": [
    "weight_correction (0.1, 0.520, -0.1274)"
   ]
  },
  {
   "cell_type": "code",
   "execution_count": 60,
   "metadata": {},
   "outputs": [],
   "source": [
    "def update_berat(berat_sebelum, correction): \n",
    "    return berat_sebelum + correction"
   ]
  },
  {
   "cell_type": "code",
   "execution_count": 81,
   "metadata": {},
   "outputs": [],
   "source": [
    "def train():\n",
    "    w13 = 0.5\n",
    "    w14 = 0.9\n",
    "    w23 = 0.4\n",
    "    w24 = 1\n",
    "    w35 = -1.2\n",
    "    w45 = -1.1\n",
    "    b3 = 0.8\n",
    "    b4 = -0.1\n",
    "    b5 = 0.3\n",
    "    iterations = 100000\n",
    "    learning_rate = 0.1\n",
    "    sum_of_squared_error = []\n",
    "    \n",
    "    for j in range (iterations):\n",
    "        sum_of_error = 0;\n",
    "        for i in range(len(training_input)):\n",
    "            \n",
    "            \n",
    "            x1 = training_input[i][0]\n",
    "            x2 = training_input[i][1]\n",
    "            solution = training_solution[i]\n",
    "            \n",
    "            y3 = (x1 * w13) + (x2 * w23) - b3 \n",
    "\n",
    "            y3 = sigmoid(y3)\n",
    "            y4 = x1*w14 + x2 *w24 - b4 \n",
    "            y4 = sigmoid(y4)\n",
    "            y5 = y3*w35 + y4*w45 - b5 \n",
    "            y5 = sigmoid(y5)\n",
    "        \n",
    "            error = err(solution,y5)\n",
    "            sum_of_error += np.square(error)\n",
    "            \n",
    "            error_gradien = err_gradien(y5,error)\n",
    "            delta_w35 = weight_correction(learning_rate, y3, error_gradien)\n",
    "            delta_w45 = weight_correction(learning_rate, y4, error_gradien)\n",
    "            delta_b5 = weight_correction(learning_rate, -1, error_gradien)\n",
    "            \n",
    "            error_gradien3 = err_gradien(y3, error_gradien*w35)\n",
    "            delta_w13 = weight_correction(learning_rate, x1, error_gradien3)\n",
    "            delta_w23 = weight_correction(learning_rate, x2, error_gradien3)\n",
    "            delta_b3 = weight_correction(learning_rate, -1, error_gradien3)\n",
    "            \n",
    "            error_gradien4 = err_gradien(y4, error_gradien*w45)\n",
    "            delta_w14 = weight_correction(learning_rate, x1, error_gradien4)\n",
    "            delta_w24 = weight_correction(learning_rate, x2, error_gradien4)\n",
    "            delta_b4 = weight_correction(learning_rate, -1, error_gradien4)\n",
    "            \n",
    "            w13 = update_berat(w13, delta_w13)\n",
    "            w14 = update_berat(w14, delta_w14)\n",
    "            w23 = update_berat(w23, delta_w23)\n",
    "            w24 = update_berat(w24, delta_w24)\n",
    "            w35 = update_berat(w35, delta_w35)\n",
    "            w45 = update_berat(w45, delta_w45)\n",
    "            b3 = update_berat(b3, delta_b3)\n",
    "            b4 = update_berat(b4, delta_b4)\n",
    "            b5 = update_berat(b5, delta_b5)\n",
    "         \n",
    "        if j % 100 == 0:\n",
    "            sum_of_squared_error.append(sum_of_error)\n",
    "    return sum_of_squared_error,w13, w14, w23, w24, w35, w45, b3, b4, b5"
   ]
  },
  {
   "cell_type": "code",
   "execution_count": 82,
   "metadata": {},
   "outputs": [
    {
     "data": {
      "image/png": "[encoded data removed]",
      "text/plain": [
       "<Figure size 432x288 with 1 Axes>"
      ]
     },
     "metadata": {
      "needs_background": "light"
     },
     "output_type": "display_data"
    }
   ],
   "source": [
    "sum_of_squared_error,w13, w14, w23, w24, w35, w45, b3, b4, b5 = train()\n",
    "fig = plt.plot(sum_of_squared_error)"
   ]
  },
  {
   "cell_type": "code",
   "execution_count": 84,
   "metadata": {},
   "outputs": [],
   "source": [
    "def prediction(x1,x2):\n",
    "    solution = training_solution[i]         \n",
    "    y3 = x1 * w13 + x2 * w23 - b3 \n",
    "    y3 = sigmoid(y3)\n",
    "    y4 = x1*w14 + x2*w24 - b4 \n",
    "    y4 = sigmoid(y4)\n",
    "    y5 = y3*w35 + y4*w45 - b5 \n",
    "    y5 = sigmoid(y5)\n",
    "    return y5\n",
    "    "
   ]
  },
  {
   "cell_type": "code",
   "execution_count": 86,
   "metadata": {},
   "outputs": [
    {
     "data": {
      "text/plain": [
       "array([0.01145075])"
      ]
     },
     "execution_count": 86,
     "metadata": {},
     "output_type": "execute_result"
    }
   ],
   "source": [
    "prediction(1,1)"
   ]
  },
  {
   "cell_type": "code",
   "execution_count": 74,
   "metadata": {},
   "outputs": [
    {
     "data": {
      "text/plain": [
       "-0.4"
      ]
     },
     "execution_count": 74,
     "metadata": {},
     "output_type": "execute_result"
    }
   ],
   "source": [
    "y3"
   ]
  },
  {
   "cell_type": "code",
   "execution_count": 75,
   "metadata": {},
   "outputs": [
    {
     "data": {
      "image/png": "[encoded data removed]",
      "text/plain": [
       "<Figure size 432x288 with 1 Axes>"
      ]
     },
     "metadata": {
      "needs_background": "light"
     },
     "output_type": "display_data"
    }
   ],
   "source": [
    "fig = plt.plot(sum_of_squared_error)"
   ]
  },
  {
   "cell_type": "code",
   "execution_count": 87,
   "metadata": {},
   "outputs": [
    {
     "data": {
      "image/png": "[encoded data removed]",
      "text/plain": [
       "<Figure size 432x288 with 1 Axes>"
      ]
     },
     "metadata": {
      "needs_background": "light"
     },
     "output_type": "display_data"
    }
   ],
   "source": [
    "# check out the networks predictions in the x,y plane\n",
    "for x in np.linspace(0, 1, 20):\n",
    "    for y in np.linspace(0, 1, 20):\n",
    "        pred = prediction(x,y)\n",
    "        c = 'b'\n",
    "        if pred > .5:\n",
    "            c = 'r'\n",
    "        plt.scatter([x],[y],c=c, alpha=.2)\n",
    "        "
   ]
  },
  {
   "cell_type": "code",
   "execution_count": null,
   "metadata": {},
   "outputs": [],
   "source": []
  }
 ],
 "metadata": {
  "kernelspec": {
   "display_name": "Python 3",
   "language": "python",
   "name": "python3"
  },
  "language_info": {
   "codemirror_mode": {
    "name": "ipython",
    "version": 3
   },
   "file_extension": ".py",
   "mimetype": "text/x-python",
   "name": "python",
   "nbconvert_exporter": "python",
   "pygments_lexer": "ipython3",
   "version": "3.7.3"
  }
 },
 "nbformat": 4,
 "nbformat_minor": 2
}
